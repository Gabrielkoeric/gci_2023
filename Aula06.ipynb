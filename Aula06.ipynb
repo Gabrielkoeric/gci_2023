{
 "cells": [
  {
   "cell_type": "code",
   "execution_count": 1,
   "metadata": {},
   "outputs": [],
   "source": [
    "import pandas as pd"
   ]
  },
  {
   "cell_type": "code",
   "execution_count": 6,
   "metadata": {},
   "outputs": [
    {
     "data": {
      "text/html": [
       "<div>\n",
       "<style scoped>\n",
       "    .dataframe tbody tr th:only-of-type {\n",
       "        vertical-align: middle;\n",
       "    }\n",
       "\n",
       "    .dataframe tbody tr th {\n",
       "        vertical-align: top;\n",
       "    }\n",
       "\n",
       "    .dataframe thead th {\n",
       "        text-align: right;\n",
       "    }\n",
       "</style>\n",
       "<table border=\"1\" class=\"dataframe\">\n",
       "  <thead>\n",
       "    <tr style=\"text-align: right;\">\n",
       "      <th></th>\n",
       "      <th>Unnamed: 0</th>\n",
       "      <th>uf</th>\n",
       "      <th>codigo</th>\n",
       "      <th>area</th>\n",
       "      <th>populacao</th>\n",
       "      <th>densidade</th>\n",
       "      <th>matricula</th>\n",
       "      <th>idh</th>\n",
       "      <th>receitas</th>\n",
       "      <th>despesas</th>\n",
       "      <th>rendimento</th>\n",
       "      <th>veiculos</th>\n",
       "      <th>regiao_nome</th>\n",
       "      <th>sigla</th>\n",
       "      <th>estado</th>\n",
       "      <th>latitude</th>\n",
       "      <th>longitude</th>\n",
       "    </tr>\n",
       "  </thead>\n",
       "  <tbody>\n",
       "    <tr>\n",
       "      <th>0</th>\n",
       "      <td>0</td>\n",
       "      <td>Acre</td>\n",
       "      <td>12</td>\n",
       "      <td>164123.964</td>\n",
       "      <td>894470</td>\n",
       "      <td>4.47</td>\n",
       "      <td>157646</td>\n",
       "      <td>0.663</td>\n",
       "      <td>6.632883e+06</td>\n",
       "      <td>6.084417e+06</td>\n",
       "      <td>890</td>\n",
       "      <td>277831</td>\n",
       "      <td>Norte</td>\n",
       "      <td>AC</td>\n",
       "      <td>AC</td>\n",
       "      <td>-9.418079</td>\n",
       "      <td>-69.716126</td>\n",
       "    </tr>\n",
       "    <tr>\n",
       "      <th>1</th>\n",
       "      <td>1</td>\n",
       "      <td>Alagoas</td>\n",
       "      <td>27</td>\n",
       "      <td>27843.295</td>\n",
       "      <td>3351543</td>\n",
       "      <td>112.33</td>\n",
       "      <td>490587</td>\n",
       "      <td>0.631</td>\n",
       "      <td>1.195044e+07</td>\n",
       "      <td>1.046063e+07</td>\n",
       "      <td>731</td>\n",
       "      <td>834827</td>\n",
       "      <td>Nordeste</td>\n",
       "      <td>AL</td>\n",
       "      <td>AL</td>\n",
       "      <td>-9.516065</td>\n",
       "      <td>-36.482510</td>\n",
       "    </tr>\n",
       "    <tr>\n",
       "      <th>2</th>\n",
       "      <td>2</td>\n",
       "      <td>Amapá</td>\n",
       "      <td>16</td>\n",
       "      <td>142470.762</td>\n",
       "      <td>861773</td>\n",
       "      <td>4.69</td>\n",
       "      <td>136185</td>\n",
       "      <td>0.708</td>\n",
       "      <td>5.396417e+06</td>\n",
       "      <td>4.224464e+06</td>\n",
       "      <td>880</td>\n",
       "      <td>195039</td>\n",
       "      <td>Norte</td>\n",
       "      <td>AP</td>\n",
       "      <td>AP</td>\n",
       "      <td>0.910531</td>\n",
       "      <td>-51.362147</td>\n",
       "    </tr>\n",
       "    <tr>\n",
       "      <th>3</th>\n",
       "      <td>3</td>\n",
       "      <td>Amazonas</td>\n",
       "      <td>13</td>\n",
       "      <td>1559167.889</td>\n",
       "      <td>4207714</td>\n",
       "      <td>2.23</td>\n",
       "      <td>705007</td>\n",
       "      <td>0.674</td>\n",
       "      <td>1.732846e+07</td>\n",
       "      <td>1.532490e+07</td>\n",
       "      <td>842</td>\n",
       "      <td>883083</td>\n",
       "      <td>Norte</td>\n",
       "      <td>AM</td>\n",
       "      <td>AM</td>\n",
       "      <td>-3.930346</td>\n",
       "      <td>-63.227020</td>\n",
       "    </tr>\n",
       "    <tr>\n",
       "      <th>4</th>\n",
       "      <td>4</td>\n",
       "      <td>Bahia</td>\n",
       "      <td>29</td>\n",
       "      <td>564760.427</td>\n",
       "      <td>14930634</td>\n",
       "      <td>24.82</td>\n",
       "      <td>2034711</td>\n",
       "      <td>0.660</td>\n",
       "      <td>5.019100e+07</td>\n",
       "      <td>4.557016e+07</td>\n",
       "      <td>913</td>\n",
       "      <td>4139107</td>\n",
       "      <td>Nordeste</td>\n",
       "      <td>BA</td>\n",
       "      <td>BA</td>\n",
       "      <td>-12.913858</td>\n",
       "      <td>-40.413045</td>\n",
       "    </tr>\n",
       "  </tbody>\n",
       "</table>\n",
       "</div>"
      ],
      "text/plain": [
       "   Unnamed: 0        uf  codigo         area  populacao  densidade  matricula  \\\n",
       "0           0      Acre      12   164123.964     894470       4.47     157646   \n",
       "1           1   Alagoas      27    27843.295    3351543     112.33     490587   \n",
       "2           2     Amapá      16   142470.762     861773       4.69     136185   \n",
       "3           3  Amazonas      13  1559167.889    4207714       2.23     705007   \n",
       "4           4     Bahia      29   564760.427   14930634      24.82    2034711   \n",
       "\n",
       "     idh      receitas      despesas  rendimento  veiculos regiao_nome sigla  \\\n",
       "0  0.663  6.632883e+06  6.084417e+06         890    277831       Norte    AC   \n",
       "1  0.631  1.195044e+07  1.046063e+07         731    834827    Nordeste    AL   \n",
       "2  0.708  5.396417e+06  4.224464e+06         880    195039       Norte    AP   \n",
       "3  0.674  1.732846e+07  1.532490e+07         842    883083       Norte    AM   \n",
       "4  0.660  5.019100e+07  4.557016e+07         913   4139107    Nordeste    BA   \n",
       "\n",
       "  estado   latitude  longitude  \n",
       "0     AC  -9.418079 -69.716126  \n",
       "1     AL  -9.516065 -36.482510  \n",
       "2     AP   0.910531 -51.362147  \n",
       "3     AM  -3.930346 -63.227020  \n",
       "4     BA -12.913858 -40.413045  "
      ]
     },
     "execution_count": 6,
     "metadata": {},
     "output_type": "execute_result"
    }
   ],
   "source": [
    "estados = pd.read_csv('brasil_estados.csv')\n",
    "estados.head()"
   ]
  },
  {
   "cell_type": "code",
   "execution_count": 3,
   "metadata": {},
   "outputs": [],
   "source": [
    "data = estados[\n",
    "    [\n",
    "        'area',\n",
    "        'populacao',\n",
    "        'densidade',\n",
    "        'matricula',\n",
    "        'idh',\n",
    "        'receitas',\n",
    "        'despesas',\n",
    "        'rendimento',\n",
    "        'veiculos'\n",
    "    ]\n",
    "]"
   ]
  },
  {
   "cell_type": "code",
   "execution_count": 4,
   "metadata": {},
   "outputs": [],
   "source": [
    "import seaborn as sns\n"
   ]
  },
  {
   "cell_type": "code",
   "execution_count": 5,
   "metadata": {},
   "outputs": [
    {
     "data": {
      "text/plain": [
       "<Axes: xlabel='area', ylabel='populacao'>"
      ]
     },
     "execution_count": 5,
     "metadata": {},
     "output_type": "execute_result"
    },
    {
     "data": {
      "image/png": "[encoded data removed]",
      "text/plain": [
       "<Figure size 640x480 with 1 Axes>"
      ]
     },
     "metadata": {},
     "output_type": "display_data"
    }
   ],
   "source": [
    "sns.regplot(data=data, x='area', y='populacao')"
   ]
  },
  {
   "cell_type": "code",
   "execution_count": null,
   "metadata": {},
   "outputs": [],
   "source": []
  }
 ],
 "metadata": {
  "kernelspec": {
   "display_name": "Python 3",
   "language": "python",
   "name": "python3"
  },
  "language_info": {
   "codemirror_mode": {
    "name": "ipython",
    "version": 3
   },
   "file_extension": ".py",
   "mimetype": "text/x-python",
   "name": "python",
   "nbconvert_exporter": "python",
   "pygments_lexer": "ipython3",
   "version": "3.8.16"
  },
  "orig_nbformat": 4
 },
 "nbformat": 4,
 "nbformat_minor": 2
}
